{
 "cells": [
  {
   "cell_type": "markdown",
   "metadata": {},
   "source": [
    "WARM UP"
   ]
  },
  {
   "cell_type": "markdown",
   "metadata": {},
   "source": [
    "# Estrutura de dados"
   ]
  },
  {
   "cell_type": "markdown",
   "metadata": {},
   "source": [
    "1) Declaração de variáveis"
   ]
  },
  {
   "cell_type": "code",
   "execution_count": 33,
   "metadata": {},
   "outputs": [
    {
     "name": "stdout",
     "output_type": "stream",
     "text": [
      "2.5\n",
      "<class 'float'> 140703190583504\n"
     ]
    }
   ],
   "source": [
    "int = 1\n",
    "float = 1.5\n",
    "result = int + float\n",
    "print(result)\n",
    "print(type(result), id(result))\n"
   ]
  },
  {
   "cell_type": "markdown",
   "metadata": {},
   "source": [
    "2)  Determinando o tipo de variável com type()\n",
    "\n",
    "Python -> type()\n",
    "\n",
    "    int (integer)\n",
    "    float\n",
    "    str (string)\n",
    "    list\n",
    "    tuple\n",
    "    dict (dictionary)\n",
    "    bool (Boolean True/False)\n",
    "\n"
   ]
  },
  {
   "cell_type": "code",
   "execution_count": 32,
   "metadata": {},
   "outputs": [
    {
     "name": "stdout",
     "output_type": "stream",
     "text": [
      "<class 'bool'>\n"
     ]
    }
   ],
   "source": [
    "i = True\n",
    "print (type(i))"
   ]
  },
  {
   "cell_type": "markdown",
   "metadata": {},
   "source": [
    "## 3 - Int"
   ]
  },
  {
   "cell_type": "code",
   "execution_count": 35,
   "metadata": {},
   "outputs": [],
   "source": [
    "i =10\n"
   ]
  },
  {
   "cell_type": "code",
   "execution_count": null,
   "metadata": {},
   "outputs": [],
   "source": []
  },
  {
   "cell_type": "markdown",
   "metadata": {},
   "source": [
    "## 4 - Float "
   ]
  },
  {
   "cell_type": "code",
   "execution_count": 17,
   "metadata": {},
   "outputs": [
    {
     "name": "stdout",
     "output_type": "stream",
     "text": [
      "1.0\n",
      "<class 'float'>\n"
     ]
    }
   ],
   "source": [
    "num1 = 2.0\n",
    "num2 = 2\n",
    "print(num1/num2)\n",
    "print(type(num1/num2)) 4\n"
   ]
  },
  {
   "cell_type": "code",
   "execution_count": 23,
   "metadata": {},
   "outputs": [
    {
     "name": "stdout",
     "output_type": "stream",
     "text": [
      "num3 93934658827072\n"
     ]
    }
   ],
   "source": [
    "num3 =  2\n",
    "print('num3', id(num3))"
   ]
  },
  {
   "cell_type": "code",
   "execution_count": 24,
   "metadata": {},
   "outputs": [
    {
     "name": "stdout",
     "output_type": "stream",
     "text": [
      "num4 93934658827072\n"
     ]
    }
   ],
   "source": [
    "num4 = num3\n",
    "print('num4',  id(num4))"
   ]
  },
  {
   "cell_type": "code",
   "execution_count": 26,
   "metadata": {},
   "outputs": [
    {
     "name": "stdout",
     "output_type": "stream",
     "text": [
      "num3 93934658827328\n"
     ]
    }
   ],
   "source": [
    "num3 = num3 + 4\n",
    "print('num3', id(num3))"
   ]
  },
  {
   "cell_type": "code",
   "execution_count": 27,
   "metadata": {},
   "outputs": [
    {
     "name": "stdout",
     "output_type": "stream",
     "text": [
      "num3 93934658827200\n"
     ]
    }
   ],
   "source": [
    "num3 = num3 - 4\n",
    "print('num3',  id(num3))\n"
   ]
  },
  {
   "cell_type": "markdown",
   "metadata": {},
   "source": [
    "# 5 - Str\n",
    "\n",
    "\n",
    "        s = \"Now I'm ready to use the single quotes inside a string!\"\n",
    "        \n",
    "        s.upper()\n",
    "        \n",
    "    ** Explorar métodos"
   ]
  },
  {
   "cell_type": "code",
   "execution_count": 36,
   "metadata": {},
   "outputs": [
    {
     "name": "stdout",
     "output_type": "stream",
     "text": [
      "Name python , id 140703217576112\n",
      "\f",
      "\n",
      "140703217576112\n",
      "Name pythonista , id 140703129325104\n",
      "140703129325104\n"
     ]
    }
   ],
   "source": [
    "name = 'python'\n",
    "print('Name {} , id {}'.format(name,id(name)))\n",
    "print('\\f')\n",
    "print(id(name))\n",
    "name+='ista'\n",
    "print('Name {} , id {}'.format(name,id(name)))\n",
    "print(id(name))"
   ]
  },
  {
   "cell_type": "code",
   "execution_count": 31,
   "metadata": {},
   "outputs": [
    {
     "name": "stdout",
     "output_type": "stream",
     "text": [
      "It's Python 140703129281072\n"
     ]
    }
   ],
   "source": [
    "s = \"It's Python\"\n",
    "print(s, id(s))"
   ]
  },
  {
   "cell_type": "code",
   "execution_count": null,
   "metadata": {},
   "outputs": [],
   "source": []
  },
  {
   "cell_type": "markdown",
   "metadata": {},
   "source": [
    "## 6 - List"
   ]
  },
  {
   "cell_type": "code",
   "execution_count": 37,
   "metadata": {},
   "outputs": [
    {
     "name": "stdout",
     "output_type": "stream",
     "text": [
      "List [1, 2, 3, 4] , id 140703130562720\n",
      "\f",
      "\n",
      "List [1, 2, 3, 4, 1] , id 140703130562720\n"
     ]
    }
   ],
   "source": [
    "x_list = [1,2,3,4]\n",
    "print('List {} , id {}'.format(x_list,id(x_list)))\n",
    "print('\\f')\n",
    "x_list.append(1)\n",
    "print('List {} , id {}'.format(x_list,id(x_list)))"
   ]
  },
  {
   "cell_type": "code",
   "execution_count": 39,
   "metadata": {},
   "outputs": [],
   "source": [
    "x_list.append(x_list)"
   ]
  },
  {
   "cell_type": "code",
   "execution_count": 41,
   "metadata": {},
   "outputs": [
    {
     "name": "stdout",
     "output_type": "stream",
     "text": [
      "List [1, 2, 3, 4, 1, [...], [...]] , id 140703130562720\n"
     ]
    }
   ],
   "source": [
    "print('List {} , id {}'.format(x_list,id(x_list))"
   ]
  },
  {
   "cell_type": "markdown",
   "metadata": {},
   "source": [
    "listaAnimais = ['cachorro', 'gato', 'galinha']\n",
    "print(listaAnimais)\n",
    "listaAnimais.append(listaAnimais)\n",
    "listaAnimais.append(['pedra','madeira',{'key':1}])\n",
    "print(listaAnimais)\n",
    "print(listaAnimais[4][0])\n",
    "listaAnimais.append([2,3,5])\n",
    "print(listaAnimais[5][1])\n",
    "matriz = [[0,1,2],['a','b','c']]\n",
    "print(matriz[1])"
   ]
  },
  {
   "cell_type": "code",
   "execution_count": 88,
   "metadata": {},
   "outputs": [
    {
     "name": "stdout",
     "output_type": "stream",
     "text": [
      "[0] 140703129249424\n",
      "[0, 1] 140703129249424\n",
      "[0, 1, 2] 140703129249424\n",
      "[0, 1, 2, 3] 140703129249424\n",
      "[0, 1, 2, 3, 4] 140703129249424\n",
      "[0, 1, 2, 3, 4, 5] 140703129249424\n",
      "[0, 1, 2, 3, 4, 5, 6] 140703129249424\n",
      "[0, 1, 2, 3, 4, 5, 6, 7] 140703129249424\n",
      "[0, 1, 2, 3, 4, 5, 6, 7, 8] 140703129249424\n",
      "[0, 1, 2, 3, 4, 5, 6, 7, 8, 9] 140703129249424\n"
     ]
    }
   ],
   "source": [
    "def teste(i):\n",
    "    var = i\n",
    "    print('var:', i)\n",
    "    \n",
    "list1 = []\n",
    "for i in range(10):\n",
    "     list1.append(i)\n",
    "     print(list1, id(list1))"
   ]
  },
  {
   "cell_type": "markdown",
   "metadata": {},
   "source": [
    "## 7 - Tuple"
   ]
  },
  {
   "cell_type": "code",
   "execution_count": 91,
   "metadata": {},
   "outputs": [
    {
     "name": "stdout",
     "output_type": "stream",
     "text": [
      "Tuple (1, 2, 3, 4) , id 140703128819760\n",
      "\f",
      "\n",
      "Tuple (1, 2, 3, 4, 1) , id 140703130696400\n",
      "140703129168256\n",
      ">  93934658827040 1\n",
      ">  93934658827072 2\n",
      ">  93934658827104 3\n",
      ">  93934658827136 4\n",
      ">  93934658827040 1\n",
      ">  93934658827008 0\n",
      "140703189776432\n",
      ">  93934658827040 1\n",
      ">  93934658827072 2\n",
      ">  93934658827104 3\n",
      ">  93934658827136 4\n",
      ">  93934658827040 1\n",
      ">  93934658827008 0\n",
      ">  93934658827040 1\n",
      "140703189770064\n",
      ">  93934658827040 1\n",
      ">  93934658827072 2\n",
      ">  93934658827104 3\n",
      ">  93934658827136 4\n",
      ">  93934658827040 1\n",
      ">  93934658827008 0\n",
      ">  93934658827040 1\n",
      ">  93934658827072 2\n",
      "140703129995600\n",
      ">  93934658827040 1\n",
      ">  93934658827072 2\n",
      ">  93934658827104 3\n",
      ">  93934658827136 4\n",
      ">  93934658827040 1\n",
      ">  93934658827008 0\n",
      ">  93934658827040 1\n",
      ">  93934658827072 2\n",
      ">  93934658827104 3\n",
      "140703128911312\n",
      ">  93934658827040 1\n",
      ">  93934658827072 2\n",
      ">  93934658827104 3\n",
      ">  93934658827136 4\n",
      ">  93934658827040 1\n",
      ">  93934658827008 0\n",
      ">  93934658827040 1\n",
      ">  93934658827072 2\n",
      ">  93934658827104 3\n",
      ">  93934658827136 4\n",
      "140703128911168\n",
      ">  93934658827040 1\n",
      ">  93934658827072 2\n",
      ">  93934658827104 3\n",
      ">  93934658827136 4\n",
      ">  93934658827040 1\n",
      ">  93934658827008 0\n",
      ">  93934658827040 1\n",
      ">  93934658827072 2\n",
      ">  93934658827104 3\n",
      ">  93934658827136 4\n",
      ">  93934658827168 5\n",
      "140703130311888\n",
      ">  93934658827040 1\n",
      ">  93934658827072 2\n",
      ">  93934658827104 3\n",
      ">  93934658827136 4\n",
      ">  93934658827040 1\n",
      ">  93934658827008 0\n",
      ">  93934658827040 1\n",
      ">  93934658827072 2\n",
      ">  93934658827104 3\n",
      ">  93934658827136 4\n",
      ">  93934658827168 5\n",
      ">  93934658827200 6\n",
      "140703130414608\n",
      ">  93934658827040 1\n",
      ">  93934658827072 2\n",
      ">  93934658827104 3\n",
      ">  93934658827136 4\n",
      ">  93934658827040 1\n",
      ">  93934658827008 0\n",
      ">  93934658827040 1\n",
      ">  93934658827072 2\n",
      ">  93934658827104 3\n",
      ">  93934658827136 4\n",
      ">  93934658827168 5\n",
      ">  93934658827200 6\n",
      ">  93934658827232 7\n",
      "140703189724864\n",
      ">  93934658827040 1\n",
      ">  93934658827072 2\n",
      ">  93934658827104 3\n",
      ">  93934658827136 4\n",
      ">  93934658827040 1\n",
      ">  93934658827008 0\n",
      ">  93934658827040 1\n",
      ">  93934658827072 2\n",
      ">  93934658827104 3\n",
      ">  93934658827136 4\n",
      ">  93934658827168 5\n",
      ">  93934658827200 6\n",
      ">  93934658827232 7\n",
      ">  93934658827264 8\n",
      "140703130407168\n",
      ">  93934658827040 1\n",
      ">  93934658827072 2\n",
      ">  93934658827104 3\n",
      ">  93934658827136 4\n",
      ">  93934658827040 1\n",
      ">  93934658827008 0\n",
      ">  93934658827040 1\n",
      ">  93934658827072 2\n",
      ">  93934658827104 3\n",
      ">  93934658827136 4\n",
      ">  93934658827168 5\n",
      ">  93934658827200 6\n",
      ">  93934658827232 7\n",
      ">  93934658827264 8\n",
      ">  93934658827296 9\n",
      "(1, 2, 3, 4, 1, 0, 1, 2, 3, 4, 5, 6, 7, 8, 9)\n"
     ]
    }
   ],
   "source": [
    "x_tuple = (1,2,3,4)\n",
    "print('Tuple {} , id {}'.format(x_tuple,id(x_tuple)))\n",
    "print('\\f')\n",
    "x_tuple += 1,\n",
    "print('Tuple {} , id {}'.format(x_tuple,id(x_tuple)))\n",
    "\n",
    "#x_tuple += x_tuple,\n",
    "#print('Tuple {} , id {}'.format(x_tuple,id(x_tuple)))\n",
    "\n",
    "\n",
    "for i in range(10):\n",
    "    x_tuple+=(i,)\n",
    "    print(id(x_tuple))\n",
    "    for element in x_tuple:\n",
    "        print(\"> \",id(element), element)\n",
    "    \n",
    "print(x_tuple)\n",
    "\n",
    "\n"
   ]
  },
  {
   "cell_type": "code",
   "execution_count": null,
   "metadata": {},
   "outputs": [],
   "source": [
    "## 8 - Dict"
   ]
  },
  {
   "cell_type": "code",
   "execution_count": 99,
   "metadata": {},
   "outputs": [
    {
     "name": "stdout",
     "output_type": "stream",
     "text": [
      "Dict {'key1': 'python', 'key2': 10, 'key3': [1, 2, 3, 4]} , id 140703128839984\n",
      "\f",
      "\n",
      "Dict {'key1': 'python', 'key2': 11, 'key3': [1, 2, 3, 4]} , id 140703128839984\n",
      "\f",
      "\n",
      "{'pessoa': {'nome': 'joao', 'idade': '2'}}\n"
     ]
    }
   ],
   "source": [
    "x_dict = {'key1':'python','key2':10,'key3':[1,2,3,4]}\n",
    "print('Dict {} , id {}'.format(x_dict,id(x_dict)))\n",
    "print('\\f')\n",
    "x_dict['key2'] = x_dict['key2']+1\n",
    "print('Dict {} , id {}'.format(x_dict,id(x_dict)))\n",
    "print('\\f')\n",
    "diogo = {'nome':'diogo','idade':'40'}\n",
    "lucas = {'nome':'lucas','idade':'7'}\n",
    "joao = {'nome':'joao','idade':'2'}\n",
    "wincks = {'pessoa':diogo, 'pessoa':lucas, 'pessoa':joao}\n",
    "print(wincks)"
   ]
  },
  {
   "cell_type": "markdown",
   "metadata": {},
   "source": [
    "## 9 - Bool"
   ]
  },
  {
   "cell_type": "code",
   "execution_count": 106,
   "metadata": {},
   "outputs": [
    {
     "name": "stdout",
     "output_type": "stream",
     "text": [
      "True\n",
      "True\n",
      "False\n",
      "False\n",
      "False\n"
     ]
    }
   ],
   "source": [
    "x1 = True\n",
    "y1 = x1 \n",
    "\n",
    "print(x1 == y1)\n",
    "print(x1 is y1)\n",
    "y1 =  not True \n",
    "print(y1)\n",
    "print(x1 is y1)\n",
    "print(x1 == y1)\n",
    "# x1 = y1\n",
    "# print(x1 is y1)\n",
    "# print(x1 == y1)"
   ]
  },
  {
   "cell_type": "markdown",
   "metadata": {},
   "source": [
    "## 10 - JSON"
   ]
  },
  {
   "cell_type": "code",
   "execution_count": 137,
   "metadata": {},
   "outputs": [
    {
     "data": {
      "text/html": [
       "<div>\n",
       "<style scoped>\n",
       "    .dataframe tbody tr th:only-of-type {\n",
       "        vertical-align: middle;\n",
       "    }\n",
       "\n",
       "    .dataframe tbody tr th {\n",
       "        vertical-align: top;\n",
       "    }\n",
       "\n",
       "    .dataframe thead th {\n",
       "        text-align: right;\n",
       "    }\n",
       "</style>\n",
       "<table border=\"1\" class=\"dataframe\">\n",
       "  <thead>\n",
       "    <tr style=\"text-align: right;\">\n",
       "      <th></th>\n",
       "      <th>date</th>\n",
       "      <th>state</th>\n",
       "      <th>store_id</th>\n",
       "      <th>sale_id</th>\n",
       "      <th>off_product_id</th>\n",
       "      <th>quantity</th>\n",
       "      <th>price</th>\n",
       "      <th>customer_id</th>\n",
       "    </tr>\n",
       "  </thead>\n",
       "  <tbody>\n",
       "    <tr>\n",
       "      <td>0</td>\n",
       "      <td>2018-08-01</td>\n",
       "      <td>RN</td>\n",
       "      <td>3162633</td>\n",
       "      <td>323932636465316</td>\n",
       "      <td>643839313230323</td>\n",
       "      <td>1</td>\n",
       "      <td>279.0</td>\n",
       "      <td>None</td>\n",
       "    </tr>\n",
       "    <tr>\n",
       "      <td>1</td>\n",
       "      <td>2018-08-01</td>\n",
       "      <td>RN</td>\n",
       "      <td>3162633</td>\n",
       "      <td>326463633336323</td>\n",
       "      <td>613665646663346</td>\n",
       "      <td>1</td>\n",
       "      <td>229.0</td>\n",
       "      <td>None</td>\n",
       "    </tr>\n",
       "    <tr>\n",
       "      <td>2</td>\n",
       "      <td>2018-08-01</td>\n",
       "      <td>RN</td>\n",
       "      <td>3162633</td>\n",
       "      <td>333331346330323</td>\n",
       "      <td>343739666265353</td>\n",
       "      <td>1</td>\n",
       "      <td>179.0</td>\n",
       "      <td>None</td>\n",
       "    </tr>\n",
       "  </tbody>\n",
       "</table>\n",
       "</div>"
      ],
      "text/plain": [
       "         date state store_id          sale_id   off_product_id  quantity  \\\n",
       "0  2018-08-01    RN  3162633  323932636465316  643839313230323         1   \n",
       "1  2018-08-01    RN  3162633  326463633336323  613665646663346         1   \n",
       "2  2018-08-01    RN  3162633  333331346330323  343739666265353         1   \n",
       "\n",
       "   price customer_id  \n",
       "0  279.0        None  \n",
       "1  229.0        None  \n",
       "2  179.0        None  "
      ]
     },
     "metadata": {},
     "output_type": "display_data"
    },
    {
     "data": {
      "text/plain": [
       "<matplotlib.axes._subplots.AxesSubplot at 0x7ff7c9b518d0>"
      ]
     },
     "execution_count": 137,
     "metadata": {},
     "output_type": "execute_result"
    },
    {
     "data": {
      "image/png": "[encoded data removed]",
      "text/plain": [
       "<Figure size 432x288 with 1 Axes>"
      ]
     },
     "metadata": {
      "needs_background": "light"
     },
     "output_type": "display_data"
    }
   ],
   "source": [
    "import pandas as pd\n",
    "import json\n",
    "\n",
    "data_offline_sales = []\n",
    "with open('offline_sales.json') as file:\n",
    "    for line in file:\n",
    "        data_offline_sales.append(json.loads(line))\n",
    "        \n",
    "df_offline_sales = pd.DataFrame(data_offline_sales)\n",
    "display(df_offline_sales.head(n=3))\n",
    "df_offline_sales['price'].plot()\n"
   ]
  },
  {
   "cell_type": "code",
   "execution_count": 147,
   "metadata": {},
   "outputs": [
    {
     "data": {
      "text/plain": [
       "array([[<matplotlib.axes._subplots.AxesSubplot object at 0x7ff7c8fea410>,\n",
       "        <matplotlib.axes._subplots.AxesSubplot object at 0x7ff7c9001990>],\n",
       "       [<matplotlib.axes._subplots.AxesSubplot object at 0x7ff7c8fa8d90>,\n",
       "        <matplotlib.axes._subplots.AxesSubplot object at 0x7ff7c8fca9d0>]],\n",
       "      dtype=object)"
      ]
     },
     "execution_count": 147,
     "metadata": {},
     "output_type": "execute_result"
    },
    {
     "data": {
      "image/png": "[encoded data removed]",
      "text/plain": [
       "<Figure size 1440x1440 with 4 Axes>"
      ]
     },
     "metadata": {
      "needs_background": "light"
     },
     "output_type": "display_data"
    }
   ],
   "source": [
    "from pandas.plotting import scatter_matrix\n",
    "scatter_matrix(df_offline_sales, alpha=0.5, figsize=(20, 20), diagonal='kde')"
   ]
  },
  {
   "cell_type": "code",
   "execution_count": 107,
   "metadata": {},
   "outputs": [
    {
     "name": "stdout",
     "output_type": "stream",
     "text": [
      "['teste1', 'teste2', 'teste3']\n"
     ]
    }
   ],
   "source": [
    "x = 'teste1, teste2, teste3'\n",
    "splited = x.split(', ')\n",
    "print(splited)"
   ]
  },
  {
   "cell_type": "markdown",
   "metadata": {},
   "source": [
    "## 11 - PANDAS\n"
   ]
  },
  {
   "cell_type": "code",
   "execution_count": 113,
   "metadata": {},
   "outputs": [],
   "source": [
    "df = pd.read_clipboard()"
   ]
  },
  {
   "cell_type": "code",
   "execution_count": 124,
   "metadata": {},
   "outputs": [
    {
     "data": {
      "text/plain": [
       "<matplotlib.axes._subplots.AxesSubplot at 0x7ff7d6ec9e90>"
      ]
     },
     "execution_count": 124,
     "metadata": {},
     "output_type": "execute_result"
    },
    {
     "data": {
      "image/png": "[encoded data removed]",
      "text/plain": [
       "<Figure size 432x288 with 1 Axes>"
      ]
     },
     "metadata": {
      "needs_background": "light"
     },
     "output_type": "display_data"
    }
   ],
   "source": [
    "df.plot()"
   ]
  },
  {
   "cell_type": "code",
   "execution_count": 151,
   "metadata": {},
   "outputs": [
    {
     "data": {
      "image/png": "[encoded data removed]",
      "text/plain": [
       "<Figure size 432x288 with 1 Axes>"
      ]
     },
     "metadata": {
      "needs_background": "light"
     },
     "output_type": "display_data"
    }
   ],
   "source": [
    "import matplotlib.pyplot as plt\n",
    "_=plt.plot(df_offline_sales['price'])\n"
   ]
  },
  {
   "cell_type": "code",
   "execution_count": 358,
   "metadata": {},
   "outputs": [
    {
     "data": {
      "image/png": "[encoded data removed]",
      "text/plain": [
       "<Figure size 432x288 with 1 Axes>"
      ]
     },
     "metadata": {},
     "output_type": "display_data"
    }
   ],
   "source": [
    "import seaborn as sns; sns.set()\n",
    "import matplotlib.pyplot as plt\n",
    "_ = sns.lineplot(x=\"quantity\",y=\"price\",data=df_offline_sales)"
   ]
  },
  {
   "cell_type": "code",
   "execution_count": null,
   "metadata": {},
   "outputs": [],
   "source": []
  },
  {
   "cell_type": "markdown",
   "metadata": {},
   "source": [
    " "
   ]
  },
  {
   "cell_type": "markdown",
   "metadata": {},
   "source": [
    "## ESTRUTURA DE CONTROLE DE DADOS\n",
    "---"
   ]
  },
  {
   "cell_type": "markdown",
   "metadata": {},
   "source": [
    "## IF / THEN / ELSE\n",
    "\n",
    "    if case1:\n",
    "        perform action1\n",
    "    elif case2:\n",
    "        perform action2\n",
    "    else: \n",
    "        perform action3"
   ]
  },
  {
   "cell_type": "markdown",
   "metadata": {},
   "source": [
    "###### import random\n",
    "x = random.randint(0,5)\n",
    "print('numero:',x)\n",
    "if x > 4:\n",
    "    print(\"maior que 4\")\n",
    "elif x > 3:\n",
    "    print(\"maior que 3\")\n",
    "elif x > 2:\n",
    "    print(\"maior que 2\")\n",
    "else:\n",
    "    print(\"entre 0 e 2\")\n",
    "    "
   ]
  },
  {
   "cell_type": "markdown",
   "metadata": {},
   "source": [
    "---\n",
    "# FOR LOOP\n",
    "        for item in object:\n",
    "            statements to do stuff"
   ]
  },
  {
   "cell_type": "code",
   "execution_count": 191,
   "metadata": {},
   "outputs": [
    {
     "name": "stdout",
     "output_type": "stream",
     "text": [
      "1\n",
      "2\n",
      "3\n",
      "4\n",
      "5\n",
      "6\n"
     ]
    }
   ],
   "source": [
    "v = [1,2,3,4,5,6]\n",
    "for i in v:\n",
    "    print(i)"
   ]
  },
  {
   "cell_type": "code",
   "execution_count": 351,
   "metadata": {},
   "outputs": [
    {
     "data": {
      "image/png": "[encoded data removed]",
      "text/plain": [
       "<Figure size 432x288 with 1 Axes>"
      ]
     },
     "metadata": {},
     "output_type": "display_data"
    }
   ],
   "source": [
    "v = 0\n",
    "x = []\n",
    "y = []\n",
    "vetor = []\n",
    "i=0\n",
    "for i in range(100):\n",
    "    v = random.randint(0,1000)\n",
    "    x.append(i)\n",
    "    y.append(v)\n",
    "    vetor.append([v,i])\n",
    "vetor.sort()\n",
    "_=plt.plot(vetor)"
   ]
  },
  {
   "cell_type": "code",
   "execution_count": 359,
   "metadata": {},
   "outputs": [
    {
     "data": {
      "image/png": "[encoded data removed]",
      "text/plain": [
       "<Figure size 432x288 with 1 Axes>"
      ]
     },
     "metadata": {},
     "output_type": "display_data"
    }
   ],
   "source": [
    "x.sort()\n",
    "y.sort()\n",
    "_=sns.lineplot(x,y)\n"
   ]
  },
  {
   "cell_type": "code",
   "execution_count": 331,
   "metadata": {},
   "outputs": [
    {
     "name": "stdout",
     "output_type": "stream",
     "text": [
      "index 0, value 5\n",
      "\f",
      "\n",
      "index 1, value 4\n",
      "\f",
      "\n",
      "index 2, value 1\n",
      "\f",
      "\n",
      "index 3, value 2\n",
      "\f",
      "\n",
      "index 4, value 6\n",
      "\f",
      "\n",
      "index 5, value 5\n",
      "\f",
      "\n",
      "index 6, value 3\n",
      "\f",
      "\n",
      "index 7, value 1\n",
      "\f",
      "\n"
     ]
    }
   ],
   "source": [
    "lista_1 = [5,4,1,2,6,5,3,1]\n",
    "for i in range(len(lista_1)):\n",
    "    print('index {}, value {}'.format(i,lista_1[i]))\n",
    "    print('\\f')"
   ]
  },
  {
   "cell_type": "code",
   "execution_count": 366,
   "metadata": {},
   "outputs": [
    {
     "name": "stdout",
     "output_type": "stream",
     "text": [
      "6\n",
      "1\n",
      "2\n",
      "3\n",
      "3\n",
      "4\n",
      "5\n"
     ]
    }
   ],
   "source": [
    "lista_teste = [6,1,2,3,3,4,5]\n",
    "if len(lista_teste)==0:\n",
    "    print('lista vazia')\n",
    "else:\n",
    "    for num in lista_teste:\n",
    "        print(num)\n",
    "    "
   ]
  },
  {
   "cell_type": "markdown",
   "metadata": {},
   "source": [
    "---\n",
    "## LISTS\n",
    "\n",
    "    for num in list1:\n",
    "        list_sum = list_sum + nu"
   ]
  },
  {
   "cell_type": "code",
   "execution_count": 365,
   "metadata": {},
   "outputs": [
    {
     "name": "stdout",
     "output_type": "stream",
     "text": [
      "4 5 6 \n",
      "4 5 6 2 5 6 6 \n"
     ]
    }
   ],
   "source": [
    "linhastr = ''\n",
    "lista_nested = [[4,5,6],[2,5,6,6]]\n",
    "for linha in lista_nested:\n",
    "    for j in linha:\n",
    "        linhastr = linhastr + str(j) + ' '\n",
    "    print(linhastr)"
   ]
  },
  {
   "cell_type": "code",
   "execution_count": 380,
   "metadata": {},
   "outputs": [
    {
     "name": "stdout",
     "output_type": "stream",
     "text": [
      "[6, 1, 2, 3, 3, 4, 5]\n"
     ]
    }
   ],
   "source": [
    "listaNova =  [x for x in lista_teste]\n",
    "print(listaNova)"
   ]
  },
  {
   "cell_type": "code",
   "execution_count": 386,
   "metadata": {},
   "outputs": [
    {
     "name": "stdout",
     "output_type": "stream",
     "text": [
      "[36, 1, 4, 9, 9, 16, 25]\n"
     ]
    }
   ],
   "source": [
    "listaNova =  [x**2 for x in lista_teste]\n",
    "print(listaNova)"
   ]
  },
  {
   "cell_type": "code",
   "execution_count": 387,
   "metadata": {},
   "outputs": [
    {
     "name": "stdout",
     "output_type": "stream",
     "text": [
      "['6 laranjas', '4 laranjas', '5 laranjas']\n"
     ]
    }
   ],
   "source": [
    "listaNova =  [str(x)+' laranjas' for x in lista_teste  if x >= 4]\n",
    "print(listaNova)"
   ]
  },
  {
   "cell_type": "code",
   "execution_count": 399,
   "metadata": {},
   "outputs": [
    {
     "name": "stdout",
     "output_type": "stream",
     "text": [
      "(4, 3, 4, 5)\n",
      "3\n",
      "<generator object <genexpr> at 0x7ff7b68b55d0>\n"
     ]
    }
   ],
   "source": [
    "tupla = (4,3,4,5)\n",
    "print(tupla)\n",
    "print(tupla[1])\n",
    "tupla_nova = (x for x in tupla)\n",
    "print(tupla_nova)\n"
   ]
  },
  {
   "cell_type": "markdown",
   "metadata": {},
   "source": [
    "---\n",
    "## TUPLES\n",
    "\n",
    "    Tuple unpacking\n",
    "    \n",
    "    >>> x = [(1,2), (3,4), (5,6)]\n",
    "    >>> for item in x:\n",
    "    ...     print \"A tuple\", item\n",
    "    A tuple (1, 2)\n",
    "    A tuple (3, 4)\n",
    "    A tuple (5, 6)\n",
    "    >>> for a, b in x:\n",
    "    ...     print \"First\", a, \"then\", b\n",
    "    First 1 then 2\n",
    "    First 3 then 4\n",
    "    First 5 then 6"
   ]
  },
  {
   "cell_type": "code",
   "execution_count": 415,
   "metadata": {},
   "outputs": [
    {
     "name": "stdout",
     "output_type": "stream",
     "text": [
      "<class 'tuple'>\n",
      "<class 'tuple'>\n",
      "linha: 1 4 2 9 \n",
      "<class 'list'>\n",
      "linha: 3.55 4 1 \n",
      "<class 'set'>\n",
      "linha: 4 5 6 \n"
     ]
    }
   ],
   "source": [
    "tuple_teste = ((1,4,2,9),[3.55,4,1],{4,5,6})\n",
    "print(type(tuple_teste))\n",
    "linha = '';\n",
    "for t in tuple_teste:\n",
    "    print(type(t))\n",
    "    for v in t:\n",
    "        linha = linha + str(v) + ' '\n",
    "        \n",
    "    print('linha:', linha)\n",
    "    linha  = ''"
   ]
  },
  {
   "cell_type": "code",
   "execution_count": 423,
   "metadata": {},
   "outputs": [
    {
     "name": "stdout",
     "output_type": "stream",
     "text": [
      "5 6\n",
      "4 7\n",
      "3 9\n",
      "9 1\n"
     ]
    }
   ],
   "source": [
    "tuple_teste = ((5,6),(4,7),(3,9),(9,1))\n",
    "for i,j in tuple_teste:\n",
    "    print('{} {}'.format(i,j))"
   ]
  },
  {
   "cell_type": "code",
   "execution_count": 430,
   "metadata": {},
   "outputs": [
    {
     "name": "stdout",
     "output_type": "stream",
     "text": [
      "metodo!!!!\n"
     ]
    }
   ],
   "source": [
    "def teste():\n",
    "    print(\"metodo!!!!\")\n",
    "\n",
    "vetor = [teste]\n",
    "\n",
    "vetor[0]()"
   ]
  },
  {
   "cell_type": "markdown",
   "metadata": {},
   "source": [
    "---\n",
    "## DICTIONARY\n",
    "\n",
    "    for k,v in d.items():\n",
    "        print(k)\n",
    "        print(v)"
   ]
  },
  {
   "cell_type": "code",
   "execution_count": 440,
   "metadata": {},
   "outputs": [
    {
     "name": "stdout",
     "output_type": "stream",
     "text": [
      "{'nome': 'diogo', 'sobrenome': 'winck', 'endereco': {'rua': 'xv de novembro', 'numero': '1965'}}\n"
     ]
    }
   ],
   "source": [
    "dicionario = {\n",
    "    'id1':{\n",
    "        'nome':'diogo',\n",
    "        'sobrenome':'winck',\n",
    "        'endereco':{\n",
    "            'rua':'xv de novembro',\n",
    "            'numero': '1965'\n",
    "        }\n",
    "    },\n",
    "    'id2':{\n",
    "        'nome':'lucas',\n",
    "        'sobrenome':'winck',\n",
    "        'endereco':{\n",
    "            'rua':'xv de novembro',\n",
    "            'numero': '1965'\n",
    "        }\n",
    "    }\n",
    "}\n",
    "print(dicionario['id1'])\n"
   ]
  },
  {
   "cell_type": "code",
   "execution_count": 444,
   "metadata": {},
   "outputs": [
    {
     "data": {
      "text/plain": [
       "{'id1': {'nome': 'diogo',\n",
       "  'sobrenome': 'winck',\n",
       "  'endereco': {'rua': 'xv de novembro', 'numero': '1965'}},\n",
       " 'id2': {'nome': 'lucas',\n",
       "  'sobrenome': 'winck',\n",
       "  'endereco': {'rua': 'xv de novembro', 'numero': '1965'}}}"
      ]
     },
     "metadata": {},
     "output_type": "display_data"
    }
   ],
   "source": [
    "display(dicionario)"
   ]
  },
  {
   "cell_type": "markdown",
   "metadata": {},
   "source": [
    "---\n",
    "## PANDAS\n",
    "    \n",
    "    df = pd.DataFrame(data=[[1,2],[8,6],[1,2],[8,6]], columns = ['x','y'])\n",
    "    \n",
    "### DICA !!!!    \n",
    "    iloc numérico\n",
    "    loc numérico\n",
    "    misto loc"
   ]
  },
  {
   "cell_type": "code",
   "execution_count": 445,
   "metadata": {},
   "outputs": [],
   "source": [
    "df = pd.DataFrame(data=[[1,2],[8,6],[1,2],[8,6]], columns = ['x','y'])"
   ]
  },
  {
   "cell_type": "code",
   "execution_count": 447,
   "metadata": {},
   "outputs": [
    {
     "data": {
      "text/html": [
       "<div>\n",
       "<style scoped>\n",
       "    .dataframe tbody tr th:only-of-type {\n",
       "        vertical-align: middle;\n",
       "    }\n",
       "\n",
       "    .dataframe tbody tr th {\n",
       "        vertical-align: top;\n",
       "    }\n",
       "\n",
       "    .dataframe thead th {\n",
       "        text-align: right;\n",
       "    }\n",
       "</style>\n",
       "<table border=\"1\" class=\"dataframe\">\n",
       "  <thead>\n",
       "    <tr style=\"text-align: right;\">\n",
       "      <th></th>\n",
       "      <th>x</th>\n",
       "      <th>y</th>\n",
       "    </tr>\n",
       "  </thead>\n",
       "  <tbody>\n",
       "    <tr>\n",
       "      <td>0</td>\n",
       "      <td>1</td>\n",
       "      <td>2</td>\n",
       "    </tr>\n",
       "    <tr>\n",
       "      <td>1</td>\n",
       "      <td>8</td>\n",
       "      <td>6</td>\n",
       "    </tr>\n",
       "    <tr>\n",
       "      <td>2</td>\n",
       "      <td>1</td>\n",
       "      <td>2</td>\n",
       "    </tr>\n",
       "    <tr>\n",
       "      <td>3</td>\n",
       "      <td>8</td>\n",
       "      <td>6</td>\n",
       "    </tr>\n",
       "  </tbody>\n",
       "</table>\n",
       "</div>"
      ],
      "text/plain": [
       "   x  y\n",
       "0  1  2\n",
       "1  8  6\n",
       "2  1  2\n",
       "3  8  6"
      ]
     },
     "metadata": {},
     "output_type": "display_data"
    }
   ],
   "source": [
    "display(df)"
   ]
  },
  {
   "cell_type": "code",
   "execution_count": 471,
   "metadata": {},
   "outputs": [
    {
     "name": "stdout",
     "output_type": "stream",
     "text": [
      "2\n",
      "6\n",
      "2\n",
      "6\n"
     ]
    }
   ],
   "source": [
    "for idx in df.index:\n",
    "    print(df.loc[idx, 'y'])"
   ]
  },
  {
   "cell_type": "code",
   "execution_count": 487,
   "metadata": {},
   "outputs": [
    {
     "name": "stdout",
     "output_type": "stream",
     "text": [
      "1 2 \n",
      "8 6 \n",
      "1 2 \n",
      "8 6 \n"
     ]
    }
   ],
   "source": [
    "ln = ''\n",
    "for  i in range (len(df.index)):\n",
    "    for j in range (len (df.columns)):\n",
    "        ln = ln + str(df.iloc[i][j])+ ' '\n",
    "    print(ln)\n",
    "    ln = ''\n"
   ]
  },
  {
   "cell_type": "code",
   "execution_count": 508,
   "metadata": {},
   "outputs": [
    {
     "name": "stdout",
     "output_type": "stream",
     "text": [
      "0 2\n",
      "8 6\n",
      "0 2\n",
      "8 6\n",
      "2 1\n",
      "0 6\n",
      "0 1\n"
     ]
    }
   ],
   "source": [
    "df = pd.DataFrame(data=[[1,2],[8,6],[1,2],[8,6],[2,1],[9,6],[5,1]], columns = ['x','y'])\n",
    "\n",
    "for  i in range (len(df.index)):\n",
    "    if df.loc[i,'x'] % 2 == 1:\n",
    "       df.loc[i,'x'] = 0\n",
    "   \n",
    "    ln = str(df.loc[i,'x']) + ' ' + str(df.loc[i,'y']) \n",
    "    \n",
    "     \n",
    "    print(ln)"
   ]
  },
  {
   "cell_type": "code",
   "execution_count": 467,
   "metadata": {},
   "outputs": [
    {
     "name": "stdout",
     "output_type": "stream",
     "text": [
      "0    1\n",
      "1    8\n",
      "2    1\n",
      "3    8\n",
      "Name: x, dtype: int64\n",
      "0    2\n",
      "1    6\n",
      "2    2\n",
      "3    6\n",
      "Name: y, dtype: int64\n"
     ]
    }
   ],
   "source": [
    "for col in df.columns:\n",
    "    print(df.loc[:, col])"
   ]
  },
  {
   "cell_type": "code",
   "execution_count": 511,
   "metadata": {},
   "outputs": [
    {
     "name": "stdout",
     "output_type": "stream",
     "text": [
      "0 2\n",
      "8 6\n",
      "0 2\n",
      "8 6\n",
      "2 1\n",
      "0 6\n",
      "0 1\n"
     ]
    }
   ],
   "source": [
    "for i in range(len(df)) : \n",
    "  print(df.loc[i, 'x'], df.loc[i, 'y']) "
   ]
  },
  {
   "cell_type": "code",
   "execution_count": 510,
   "metadata": {},
   "outputs": [
    {
     "name": "stdout",
     "output_type": "stream",
     "text": [
      "0 2\n",
      "8 6\n",
      "0 2\n",
      "8 6\n",
      "2 1\n",
      "0 6\n",
      "0 1\n"
     ]
    }
   ],
   "source": [
    "for i in range(len(df)) : \n",
    "  print(df.iloc[i,0], df.iloc[i,1]) "
   ]
  },
  {
   "cell_type": "code",
   "execution_count": 509,
   "metadata": {},
   "outputs": [
    {
     "name": "stdout",
     "output_type": "stream",
     "text": [
      "x    0\n",
      "y    2\n",
      "Name: 0, dtype: int64\n",
      "x    8\n",
      "y    6\n",
      "Name: 1, dtype: int64\n",
      "x    0\n",
      "y    2\n",
      "Name: 2, dtype: int64\n",
      "x    8\n",
      "y    6\n",
      "Name: 3, dtype: int64\n",
      "x    2\n",
      "y    1\n",
      "Name: 4, dtype: int64\n",
      "x    0\n",
      "y    6\n",
      "Name: 5, dtype: int64\n",
      "x    0\n",
      "y    1\n",
      "Name: 6, dtype: int64\n"
     ]
    }
   ],
   "source": [
    "for i in range(len(df)) : \n",
    "  print(df.iloc[i]) "
   ]
  },
  {
   "cell_type": "code",
   "execution_count": null,
   "metadata": {},
   "outputs": [],
   "source": []
  },
  {
   "cell_type": "markdown",
   "metadata": {},
   "source": [
    "--- \n",
    "## WHILE LOOPS\n",
    "\n",
    "        \n",
    "\n",
    "        x = 0\n",
    "\n",
    "        while x < 10:\n",
    "            print('x is currently: ',x)\n",
    "            print(' x is still less than 10, adding 1 to x')\n",
    "            x+=1\n",
    "            if x==3:\n",
    "                print('Breaking because x==3')\n",
    "                break\n",
    "            else:\n",
    "                print('continuing...')\n",
    "                continue\n",
    "\n"
   ]
  },
  {
   "cell_type": "code",
   "execution_count": 517,
   "metadata": {},
   "outputs": [
    {
     "name": "stdout",
     "output_type": "stream",
     "text": [
      "x is currently:  0\n",
      " x is still less than 10, adding 1 to x\n",
      "x is currently:  1\n",
      " x is still less than 10, adding 1 to x\n",
      "x is currently:  2\n",
      " x is still less than 10, adding 1 to x\n",
      "x is currently:  3\n",
      " x is still less than 10, adding 1 to x\n",
      "x is currently:  4\n",
      " x is still less than 10, adding 1 to x\n",
      "x is currently:  5\n",
      " x is still less than 10, adding 1 to x\n",
      "x is currently:  6\n",
      " x is still less than 10, adding 1 to x\n",
      "x is currently:  7\n",
      " x is still less than 10, adding 1 to x\n",
      "x is currently:  8\n",
      " x is still less than 10, adding 1 to x\n",
      "x is currently:  9\n",
      " x is still less than 10, adding 1 to x\n"
     ]
    }
   ],
   "source": [
    "x = 0\n",
    "\n",
    "while x < 10:\n",
    "    print('x is currently: ',x)\n",
    "    print(' x is still less than 10, adding 1 to x')\n",
    "    x+=1\n",
    "    if x==3:\n",
    "        print('Breaking because x==3')\n",
    "        break\n",
    "    else:\n",
    "        print('continuing...')\n",
    "    continue\n",
    "    "
   ]
  },
  {
   "cell_type": "code",
   "execution_count": null,
   "metadata": {},
   "outputs": [],
   "source": [
    "2"
   ]
  },
  {
   "cell_type": "markdown",
   "metadata": {},
   "source": [
    "## FUNÇÕES"
   ]
  },
  {
   "cell_type": "code",
   "execution_count": 21,
   "metadata": {},
   "outputs": [],
   "source": [
    "def name_of_function(arg1,arg2):\n",
    "    '''\n",
    "    This is where the function's Document String (docstring) goes\n",
    "    '''\n",
    "    # Do stuff here\n",
    "    # Return desired result"
   ]
  },
  {
   "cell_type": "code",
   "execution_count": null,
   "metadata": {},
   "outputs": [],
   "source": []
  },
  {
   "cell_type": "markdown",
   "metadata": {},
   "source": [
    "Criar:\n",
    "\n",
    "1) Uma função que cálcula o quadrado de um número\n",
    "\n"
   ]
  },
  {
   "cell_type": "code",
   "execution_count": 538,
   "metadata": {},
   "outputs": [
    {
     "name": "stdout",
     "output_type": "stream",
     "text": [
      "0.037037037037037035\n"
     ]
    }
   ],
   "source": [
    "def mypow(num, times):\n",
    "    return num**times\n",
    "\n",
    "num = mypow(3,-3)\n",
    "print(num)"
   ]
  },
  {
   "cell_type": "markdown",
   "metadata": {},
   "source": [
    "2) Uma função que transforma números em palavras retornando uma frase:\n",
    "\n",
    "        entrada \n",
    "                \n",
    "                produto = sapato\n",
    "                preço = 12\n",
    "                quantidade = 10\n",
    "                \n",
    "        saida \n",
    "                \n",
    "                A loja possui 10 sapatos com o preço de 10"
   ]
  },
  {
   "cell_type": "code",
   "execution_count": 566,
   "metadata": {},
   "outputs": [
    {
     "name": "stdout",
     "output_type": "stream",
     "text": [
      "A loja possui 4 sapatos com o preco de 100\n"
     ]
    }
   ],
   "source": [
    "data = {\n",
    "    'produto':'sapato',\n",
    "    'preco':100,\n",
    "    'quantidade':4\n",
    "}\n",
    "\n",
    "def formatedOut(data):\n",
    "    #print('Name {} , id {}'.format(name,id(name)))\n",
    "    produto = ''\n",
    "    if data['quantidade'] == 1:\n",
    "        produto = entrada['produto']\n",
    "    elif data['quantidade'] > 1:\n",
    "        produto = entrada['produto']+'s'\n",
    "    else:\n",
    "        return 'A loja não possui o produto '+produto\n",
    "        \n",
    "    return 'A loja possui {} {} com o preco de {}'.format(data['quantidade'],produto,data['preco'])\n",
    "\n",
    "out = formatedOut(data)\n",
    "\n",
    "print(out)\n",
    "    "
   ]
  },
  {
   "cell_type": "markdown",
   "metadata": {},
   "source": [
    "# Desafios\n",
    "---"
   ]
  },
  {
   "cell_type": "markdown",
   "metadata": {},
   "source": [
    "## ESTRUTURA DE DADOS + CONTROLE + FUNÇÕES\n"
   ]
  },
  {
   "cell_type": "markdown",
   "metadata": {},
   "source": [
    "![alt text](https://upload.wikimedia.org/wikipedia/commons/thumb/b/b5/International_Morse_Code.svg/630px-International_Morse_Code.svg.png \"Python Bootcamp\")"
   ]
  },
  {
   "cell_type": "code",
   "execution_count": 625,
   "metadata": {},
   "outputs": [],
   "source": [
    "morse ={\n",
    "    \"\" : \"\",\n",
    "    \"A\" : \".-\",\n",
    "    \"B\" : \"-...\",\n",
    "    \"C\" : \"-.-.\",\n",
    "    \"D\" : \"-..\",\n",
    "    \"E\" : \".\",\n",
    "    \"F\" : \"..-.\",\n",
    "    \"G\" : \"--.\",\n",
    "    \"H\" : \"....\",\n",
    "    \"I\" : \"..\",\n",
    "    \"J\" : \".---\",\n",
    "    \"K\" : \"-.-\",\n",
    "    \"L\" : \".-..\",\n",
    "    \"M\" : \"--\",\n",
    "    \"N\" : \"-.\",\n",
    "    \"O\" : \"---\",\n",
    "    \"P\" : \".--.\",\n",
    "    \"Q\" : \"--.-\",\n",
    "    \"R\" : \".-.\",\n",
    "    \"S\" : \"...\",\n",
    "    \"T\" : \"-\",\n",
    "    \"U\" : \"..-\",\n",
    "    \"V\" : \"...-\",\n",
    "    \"W\" : \".--\",\n",
    "    \"X\" : \"-..-\",\n",
    "    \"Y\" : \"-.--\",\n",
    "    \"Z\" : \"--..\",\n",
    "    \"1\" : \".----\",\n",
    "    \"2\" : \"..---\",\n",
    "    \"3\" : \"...--\",\n",
    "    \"4\" : \"....-\",\n",
    "    \"5\" : \".....\",\n",
    "    \"6\" : \"-....\",\n",
    "    \"7\" : \"--...\",\n",
    "    \"8\" : \"---..\",\n",
    "    \"9\" : \"----.\",\n",
    "    \"0\" : \"-----\",\n",
    "    \".\\n\" : \".-.-.-\",\n",
    "    \",\" : \"--..--\",\n",
    "    \":\" : \"---...\",\n",
    "    \"?\" : \"..--..\",\n",
    "    \"'\" : \".----.\",\n",
    "    \"-\" : \"-....-\",\n",
    "    \"/\" : \"-..-.\",\n",
    "    \"@\" : \".--.-.\",\n",
    "    \"\\n<BT>\\n\" : \"-...-\",\n",
    "    \"<SN>\" : \"...-.\",\n",
    "    \"<KN>\" : \"-.--.\"\n",
    "}"
   ]
  },
  {
   "cell_type": "code",
   "execution_count": 626,
   "metadata": {},
   "outputs": [],
   "source": [
    "import pandas as pd\n",
    "\n",
    "df = pd.DataFrame.from_dict(morse, orient='index')\n",
    "df1 = df.iloc[:16][:].T\n",
    "df2 = df.iloc[16:32][:].T\n",
    "df3 = df.iloc[32:45][:].T"
   ]
  },
  {
   "cell_type": "code",
   "execution_count": 569,
   "metadata": {},
   "outputs": [
    {
     "data": {
      "text/html": [
       "<div>\n",
       "<style scoped>\n",
       "    .dataframe tbody tr th:only-of-type {\n",
       "        vertical-align: middle;\n",
       "    }\n",
       "\n",
       "    .dataframe tbody tr th {\n",
       "        vertical-align: top;\n",
       "    }\n",
       "\n",
       "    .dataframe thead th {\n",
       "        text-align: right;\n",
       "    }\n",
       "</style>\n",
       "<table border=\"1\" class=\"dataframe\">\n",
       "  <thead>\n",
       "    <tr style=\"text-align: right;\">\n",
       "      <th></th>\n",
       "      <th></th>\n",
       "      <th>A</th>\n",
       "      <th>B</th>\n",
       "      <th>C</th>\n",
       "      <th>D</th>\n",
       "      <th>E</th>\n",
       "      <th>F</th>\n",
       "      <th>G</th>\n",
       "      <th>H</th>\n",
       "      <th>I</th>\n",
       "      <th>J</th>\n",
       "      <th>K</th>\n",
       "      <th>L</th>\n",
       "      <th>M</th>\n",
       "      <th>N</th>\n",
       "      <th>O</th>\n",
       "    </tr>\n",
       "  </thead>\n",
       "  <tbody>\n",
       "    <tr>\n",
       "      <td>0</td>\n",
       "      <td></td>\n",
       "      <td>.-</td>\n",
       "      <td>-...</td>\n",
       "      <td>-.-.</td>\n",
       "      <td>-..</td>\n",
       "      <td>.</td>\n",
       "      <td>..-.</td>\n",
       "      <td>--.</td>\n",
       "      <td>....</td>\n",
       "      <td>..</td>\n",
       "      <td>.---</td>\n",
       "      <td>-.-</td>\n",
       "      <td>.-..</td>\n",
       "      <td>--</td>\n",
       "      <td>-.</td>\n",
       "      <td>---</td>\n",
       "    </tr>\n",
       "  </tbody>\n",
       "</table>\n",
       "</div>"
      ],
      "text/plain": [
       "      A     B     C    D  E     F    G     H   I     J    K     L   M   N    O\n",
       "0    .-  -...  -.-.  -..  .  ..-.  --.  ....  ..  .---  -.-  .-..  --  -.  ---"
      ]
     },
     "metadata": {},
     "output_type": "display_data"
    }
   ],
   "source": [
    "display(df1)"
   ]
  },
  {
   "cell_type": "code",
   "execution_count": 570,
   "metadata": {},
   "outputs": [
    {
     "data": {
      "text/html": [
       "<div>\n",
       "<style scoped>\n",
       "    .dataframe tbody tr th:only-of-type {\n",
       "        vertical-align: middle;\n",
       "    }\n",
       "\n",
       "    .dataframe tbody tr th {\n",
       "        vertical-align: top;\n",
       "    }\n",
       "\n",
       "    .dataframe thead th {\n",
       "        text-align: right;\n",
       "    }\n",
       "</style>\n",
       "<table border=\"1\" class=\"dataframe\">\n",
       "  <thead>\n",
       "    <tr style=\"text-align: right;\">\n",
       "      <th></th>\n",
       "      <th>P</th>\n",
       "      <th>Q</th>\n",
       "      <th>R</th>\n",
       "      <th>S</th>\n",
       "      <th>T</th>\n",
       "      <th>U</th>\n",
       "      <th>V</th>\n",
       "      <th>W</th>\n",
       "      <th>X</th>\n",
       "      <th>Y</th>\n",
       "      <th>Z</th>\n",
       "      <th>1</th>\n",
       "      <th>2</th>\n",
       "      <th>3</th>\n",
       "      <th>4</th>\n",
       "      <th>5</th>\n",
       "    </tr>\n",
       "  </thead>\n",
       "  <tbody>\n",
       "    <tr>\n",
       "      <td>0</td>\n",
       "      <td>.--.</td>\n",
       "      <td>--.-</td>\n",
       "      <td>.-.</td>\n",
       "      <td>...</td>\n",
       "      <td>-</td>\n",
       "      <td>..-</td>\n",
       "      <td>...-</td>\n",
       "      <td>.--</td>\n",
       "      <td>-..-</td>\n",
       "      <td>-.--</td>\n",
       "      <td>--..</td>\n",
       "      <td>.----</td>\n",
       "      <td>..---</td>\n",
       "      <td>...--</td>\n",
       "      <td>....-</td>\n",
       "      <td>.....</td>\n",
       "    </tr>\n",
       "  </tbody>\n",
       "</table>\n",
       "</div>"
      ],
      "text/plain": [
       "      P     Q    R    S  T    U     V    W     X     Y     Z      1      2  \\\n",
       "0  .--.  --.-  .-.  ...  -  ..-  ...-  .--  -..-  -.--  --..  .----  ..---   \n",
       "\n",
       "       3      4      5  \n",
       "0  ...--  ....-  .....  "
      ]
     },
     "metadata": {},
     "output_type": "display_data"
    }
   ],
   "source": [
    "display(df2)"
   ]
  },
  {
   "cell_type": "code",
   "execution_count": 571,
   "metadata": {},
   "outputs": [
    {
     "data": {
      "text/html": [
       "<div>\n",
       "<style scoped>\n",
       "    .dataframe tbody tr th:only-of-type {\n",
       "        vertical-align: middle;\n",
       "    }\n",
       "\n",
       "    .dataframe tbody tr th {\n",
       "        vertical-align: top;\n",
       "    }\n",
       "\n",
       "    .dataframe thead th {\n",
       "        text-align: right;\n",
       "    }\n",
       "</style>\n",
       "<table border=\"1\" class=\"dataframe\">\n",
       "  <thead>\n",
       "    <tr style=\"text-align: right;\">\n",
       "      <th></th>\n",
       "      <th>6</th>\n",
       "      <th>7</th>\n",
       "      <th>8</th>\n",
       "      <th>9</th>\n",
       "      <th>0</th>\n",
       "      <th>.\\n</th>\n",
       "      <th>,</th>\n",
       "      <th>:</th>\n",
       "      <th>?</th>\n",
       "      <th>'</th>\n",
       "      <th>-</th>\n",
       "      <th>/</th>\n",
       "      <th>@</th>\n",
       "    </tr>\n",
       "  </thead>\n",
       "  <tbody>\n",
       "    <tr>\n",
       "      <td>0</td>\n",
       "      <td>-....</td>\n",
       "      <td>--...</td>\n",
       "      <td>---..</td>\n",
       "      <td>----.</td>\n",
       "      <td>-----</td>\n",
       "      <td>.-.-.-</td>\n",
       "      <td>--..--</td>\n",
       "      <td>---...</td>\n",
       "      <td>..--..</td>\n",
       "      <td>.----.</td>\n",
       "      <td>-....-</td>\n",
       "      <td>-..-.</td>\n",
       "      <td>.--.-.</td>\n",
       "    </tr>\n",
       "  </tbody>\n",
       "</table>\n",
       "</div>"
      ],
      "text/plain": [
       "       6      7      8      9      0     .\\n       ,       :       ?       '  \\\n",
       "0  -....  --...  ---..  ----.  -----  .-.-.-  --..--  ---...  ..--..  .----.   \n",
       "\n",
       "        -      /       @  \n",
       "0  -....-  -..-.  .--.-.  "
      ]
     },
     "metadata": {},
     "output_type": "display_data"
    }
   ],
   "source": [
    "display(df3)"
   ]
  },
  {
   "cell_type": "code",
   "execution_count": 627,
   "metadata": {},
   "outputs": [
    {
     "data": {
      "text/html": [
       "<div>\n",
       "<style scoped>\n",
       "    .dataframe tbody tr th:only-of-type {\n",
       "        vertical-align: middle;\n",
       "    }\n",
       "\n",
       "    .dataframe tbody tr th {\n",
       "        vertical-align: top;\n",
       "    }\n",
       "\n",
       "    .dataframe thead th {\n",
       "        text-align: right;\n",
       "    }\n",
       "</style>\n",
       "<table border=\"1\" class=\"dataframe\">\n",
       "  <thead>\n",
       "    <tr style=\"text-align: right;\">\n",
       "      <th></th>\n",
       "      <th>morse_code</th>\n",
       "    </tr>\n",
       "  </thead>\n",
       "  <tbody>\n",
       "    <tr>\n",
       "      <td></td>\n",
       "      <td></td>\n",
       "    </tr>\n",
       "    <tr>\n",
       "      <td>A</td>\n",
       "      <td>.-</td>\n",
       "    </tr>\n",
       "    <tr>\n",
       "      <td>B</td>\n",
       "      <td>-...</td>\n",
       "    </tr>\n",
       "    <tr>\n",
       "      <td>C</td>\n",
       "      <td>-.-.</td>\n",
       "    </tr>\n",
       "    <tr>\n",
       "      <td>D</td>\n",
       "      <td>-..</td>\n",
       "    </tr>\n",
       "    <tr>\n",
       "      <td>E</td>\n",
       "      <td>.</td>\n",
       "    </tr>\n",
       "    <tr>\n",
       "      <td>F</td>\n",
       "      <td>..-.</td>\n",
       "    </tr>\n",
       "    <tr>\n",
       "      <td>G</td>\n",
       "      <td>--.</td>\n",
       "    </tr>\n",
       "    <tr>\n",
       "      <td>H</td>\n",
       "      <td>....</td>\n",
       "    </tr>\n",
       "    <tr>\n",
       "      <td>I</td>\n",
       "      <td>..</td>\n",
       "    </tr>\n",
       "    <tr>\n",
       "      <td>J</td>\n",
       "      <td>.---</td>\n",
       "    </tr>\n",
       "    <tr>\n",
       "      <td>K</td>\n",
       "      <td>-.-</td>\n",
       "    </tr>\n",
       "    <tr>\n",
       "      <td>L</td>\n",
       "      <td>.-..</td>\n",
       "    </tr>\n",
       "    <tr>\n",
       "      <td>M</td>\n",
       "      <td>--</td>\n",
       "    </tr>\n",
       "    <tr>\n",
       "      <td>N</td>\n",
       "      <td>-.</td>\n",
       "    </tr>\n",
       "    <tr>\n",
       "      <td>O</td>\n",
       "      <td>---</td>\n",
       "    </tr>\n",
       "    <tr>\n",
       "      <td>P</td>\n",
       "      <td>.--.</td>\n",
       "    </tr>\n",
       "    <tr>\n",
       "      <td>Q</td>\n",
       "      <td>--.-</td>\n",
       "    </tr>\n",
       "    <tr>\n",
       "      <td>R</td>\n",
       "      <td>.-.</td>\n",
       "    </tr>\n",
       "    <tr>\n",
       "      <td>S</td>\n",
       "      <td>...</td>\n",
       "    </tr>\n",
       "    <tr>\n",
       "      <td>T</td>\n",
       "      <td>-</td>\n",
       "    </tr>\n",
       "    <tr>\n",
       "      <td>U</td>\n",
       "      <td>..-</td>\n",
       "    </tr>\n",
       "    <tr>\n",
       "      <td>V</td>\n",
       "      <td>...-</td>\n",
       "    </tr>\n",
       "    <tr>\n",
       "      <td>W</td>\n",
       "      <td>.--</td>\n",
       "    </tr>\n",
       "    <tr>\n",
       "      <td>X</td>\n",
       "      <td>-..-</td>\n",
       "    </tr>\n",
       "    <tr>\n",
       "      <td>Y</td>\n",
       "      <td>-.--</td>\n",
       "    </tr>\n",
       "    <tr>\n",
       "      <td>Z</td>\n",
       "      <td>--..</td>\n",
       "    </tr>\n",
       "    <tr>\n",
       "      <td>1</td>\n",
       "      <td>.----</td>\n",
       "    </tr>\n",
       "    <tr>\n",
       "      <td>2</td>\n",
       "      <td>..---</td>\n",
       "    </tr>\n",
       "    <tr>\n",
       "      <td>3</td>\n",
       "      <td>...--</td>\n",
       "    </tr>\n",
       "    <tr>\n",
       "      <td>4</td>\n",
       "      <td>....-</td>\n",
       "    </tr>\n",
       "    <tr>\n",
       "      <td>5</td>\n",
       "      <td>.....</td>\n",
       "    </tr>\n",
       "    <tr>\n",
       "      <td>6</td>\n",
       "      <td>-....</td>\n",
       "    </tr>\n",
       "    <tr>\n",
       "      <td>7</td>\n",
       "      <td>--...</td>\n",
       "    </tr>\n",
       "    <tr>\n",
       "      <td>8</td>\n",
       "      <td>---..</td>\n",
       "    </tr>\n",
       "    <tr>\n",
       "      <td>9</td>\n",
       "      <td>----.</td>\n",
       "    </tr>\n",
       "    <tr>\n",
       "      <td>0</td>\n",
       "      <td>-----</td>\n",
       "    </tr>\n",
       "    <tr>\n",
       "      <td>.\\n</td>\n",
       "      <td>.-.-.-</td>\n",
       "    </tr>\n",
       "    <tr>\n",
       "      <td>,</td>\n",
       "      <td>--..--</td>\n",
       "    </tr>\n",
       "    <tr>\n",
       "      <td>:</td>\n",
       "      <td>---...</td>\n",
       "    </tr>\n",
       "    <tr>\n",
       "      <td>?</td>\n",
       "      <td>..--..</td>\n",
       "    </tr>\n",
       "    <tr>\n",
       "      <td>'</td>\n",
       "      <td>.----.</td>\n",
       "    </tr>\n",
       "    <tr>\n",
       "      <td>-</td>\n",
       "      <td>-....-</td>\n",
       "    </tr>\n",
       "    <tr>\n",
       "      <td>/</td>\n",
       "      <td>-..-.</td>\n",
       "    </tr>\n",
       "    <tr>\n",
       "      <td>@</td>\n",
       "      <td>.--.-.</td>\n",
       "    </tr>\n",
       "    <tr>\n",
       "      <td>\\n&lt;BT&gt;\\n</td>\n",
       "      <td>-...-</td>\n",
       "    </tr>\n",
       "    <tr>\n",
       "      <td>&lt;SN&gt;</td>\n",
       "      <td>...-.</td>\n",
       "    </tr>\n",
       "    <tr>\n",
       "      <td>&lt;KN&gt;</td>\n",
       "      <td>-.--.</td>\n",
       "    </tr>\n",
       "  </tbody>\n",
       "</table>\n",
       "</div>"
      ],
      "text/plain": [
       "         morse_code\n",
       "                   \n",
       "A                .-\n",
       "B              -...\n",
       "C              -.-.\n",
       "D               -..\n",
       "E                 .\n",
       "F              ..-.\n",
       "G               --.\n",
       "H              ....\n",
       "I                ..\n",
       "J              .---\n",
       "K               -.-\n",
       "L              .-..\n",
       "M                --\n",
       "N                -.\n",
       "O               ---\n",
       "P              .--.\n",
       "Q              --.-\n",
       "R               .-.\n",
       "S               ...\n",
       "T                 -\n",
       "U               ..-\n",
       "V              ...-\n",
       "W               .--\n",
       "X              -..-\n",
       "Y              -.--\n",
       "Z              --..\n",
       "1             .----\n",
       "2             ..---\n",
       "3             ...--\n",
       "4             ....-\n",
       "5             .....\n",
       "6             -....\n",
       "7             --...\n",
       "8             ---..\n",
       "9             ----.\n",
       "0             -----\n",
       ".\\n          .-.-.-\n",
       ",            --..--\n",
       ":            ---...\n",
       "?            ..--..\n",
       "'            .----.\n",
       "-            -....-\n",
       "/             -..-.\n",
       "@            .--.-.\n",
       "\\n<BT>\\n      -...-\n",
       "<SN>          ...-.\n",
       "<KN>          -.--."
      ]
     },
     "metadata": {},
     "output_type": "display_data"
    }
   ],
   "source": [
    "df = df.rename(index=str, columns={0:'morse_code'})\n",
    "display(df)"
   ]
  },
  {
   "cell_type": "markdown",
   "metadata": {},
   "source": [
    "---\n",
    "Neste arquivo Jupyter você terá acesso ao dicionário *morse*, ele será utilizado para os exercícios sobre estrutura de dados:"
   ]
  },
  {
   "cell_type": "markdown",
   "metadata": {},
   "source": [
    "1 - Qual o código das letras -> a,b,e,t,y,@ ?\n"
   ]
  },
  {
   "cell_type": "code",
   "execution_count": 599,
   "metadata": {},
   "outputs": [
    {
     "name": "stdout",
     "output_type": "stream",
     "text": [
      ".-\n",
      "-...\n",
      ".\n",
      "-\n",
      "-.--\n",
      ".--.-.\n",
      "..--..\n"
     ]
    }
   ],
   "source": [
    "def letterToMorse(letter):\n",
    "    letter = letter.upper();\n",
    "    return df.loc[letter,'morse_code']\n",
    "    \n",
    "result = letterToMorse('a')\n",
    "print(result)\n",
    "\n",
    "result = letterToMorse('b')\n",
    "print(result)\n",
    "\n",
    "result = letterToMorse('e')\n",
    "print(result)\n",
    "\n",
    "result = letterToMorse('t')\n",
    "print(result)\n",
    "\n",
    "result = letterToMorse('y')\n",
    "print(result)\n",
    "\n",
    "result = letterToMorse('@')\n",
    "print(result)\n",
    "\n",
    "\n",
    "result = letterToMorse('?')\n",
    "print(result)\n"
   ]
  },
  {
   "cell_type": "markdown",
   "metadata": {},
   "source": [
    "2 - Quais os tipos destes caractéres?\n"
   ]
  },
  {
   "cell_type": "code",
   "execution_count": 600,
   "metadata": {},
   "outputs": [
    {
     "data": {
      "text/plain": [
       "pandas.core.frame.DataFrame"
      ]
     },
     "execution_count": 600,
     "metadata": {},
     "output_type": "execute_result"
    }
   ],
   "source": [
    "type(df)"
   ]
  },
  {
   "cell_type": "raw",
   "metadata": {},
   "source": [
    "3 - Descodifique a lista: \n",
    "\n",
    "        palavra = [---,.-..,.-,None,.--.,-.--,-,---,-.,..,...,-,-,.-]"
   ]
  },
  {
   "cell_type": "code",
   "execution_count": 689,
   "metadata": {},
   "outputs": [
    {
     "name": "stdout",
     "output_type": "stream",
     "text": [
      "K\n"
     ]
    }
   ],
   "source": [
    "#def morseToLetter(morse):\n",
    "#    return df.first_valid_index(morse)\n",
    "#\n",
    "#result = morseToLetter('.-.')\n",
    "print(df.morse_code.eq('-.-').idxmax())\n"
   ]
  },
  {
   "cell_type": "code",
   "execution_count": 684,
   "metadata": {},
   "outputs": [
    {
     "name": "stdout",
     "output_type": "stream",
     "text": [
      "140702435022608\n",
      "93934658827136\n"
     ]
    }
   ],
   "source": [
    "df1 = pd.DataFrame({\"A\":['a','b','a','b','c','a','b','c','d'],\n",
    "                   \"B\":[1]*9})\n",
    "df2=df1.A.eq('c').idxmax()\n",
    "print(id(df1))\n",
    "print(id(df2))\n",
    "\n",
    "ind = (df1.A.values == 'd').argmax()\n"
   ]
  },
  {
   "cell_type": "markdown",
   "metadata": {},
   "source": [
    "4 - Codifique a palavra:\n",
    "\n",
    "        palavra = 'Python'"
   ]
  },
  {
   "cell_type": "markdown",
   "metadata": {},
   "source": [
    "     \n",
    "5 - Crie uma função de codificação e descodificação Morse"
   ]
  }
 ],
 "metadata": {
  "kernelspec": {
   "display_name": "Python 3",
   "language": "python",
   "name": "python3"
  },
  "language_info": {
   "codemirror_mode": {
    "name": "ipython",
    "version": 3
   },
   "file_extension": ".py",
   "mimetype": "text/x-python",
   "name": "python",
   "nbconvert_exporter": "python",
   "pygments_lexer": "ipython3",
   "version": "3.7.4"
  }
 },
 "nbformat": 4,
 "nbformat_minor": 4
}
