{
 "cells": [
  {
   "cell_type": "markdown",
   "metadata": {},
   "source": [
    "# Estrutura de dados"
   ]
  },
  {
   "cell_type": "markdown",
   "metadata": {},
   "source": [
    "1) Declaração de variáveis"
   ]
  },
  {
   "cell_type": "code",
   "execution_count": null,
   "metadata": {},
   "outputs": [],
   "source": []
  },
  {
   "cell_type": "markdown",
   "metadata": {},
   "source": [
    "2)  Determinando o tipo de variável com type()\n",
    "\n",
    "Python -> type()\n",
    "\n",
    "    int (integer)\n",
    "    float\n",
    "    str (string)\n",
    "    list\n",
    "    tuple\n",
    "    dict (dictionary)\n",
    "    bool (Boolean True/False)\n",
    "\n"
   ]
  },
  {
   "cell_type": "code",
   "execution_count": null,
   "metadata": {},
   "outputs": [],
   "source": []
  },
  {
   "cell_type": "markdown",
   "metadata": {},
   "source": [
    "## 3 - Int"
   ]
  },
  {
   "cell_type": "code",
   "execution_count": null,
   "metadata": {},
   "outputs": [],
   "source": []
  },
  {
   "cell_type": "markdown",
   "metadata": {},
   "source": [
    "## 4 - Float "
   ]
  },
  {
   "cell_type": "code",
   "execution_count": null,
   "metadata": {},
   "outputs": [],
   "source": []
  },
  {
   "cell_type": "markdown",
   "metadata": {},
   "source": [
    "## 5 - Str\n",
    "\n",
    "\n",
    "        s = \"Now I'm ready to use the single quotes inside a string!\"\n",
    "        \n",
    "        s.upper()\n",
    "        \n",
    "    ** Explorar métodos"
   ]
  },
  {
   "cell_type": "code",
   "execution_count": 83,
   "metadata": {},
   "outputs": [
    {
     "name": "stdout",
     "output_type": "stream",
     "text": [
      "Name python , id 139779444812464\n",
      "\f",
      "\n",
      "Name pythonista , id 139778677388080\n"
     ]
    }
   ],
   "source": [
    "name = 'python'\n",
    "print('Name {} , id {}'.format(name,id(name)))\n",
    "print('\\f')\n",
    "name+='ista'\n",
    "print('Name {} , id {}'.format(name,id(name)))"
   ]
  },
  {
   "cell_type": "markdown",
   "metadata": {},
   "source": [
    "## 6 - List"
   ]
  },
  {
   "cell_type": "code",
   "execution_count": 85,
   "metadata": {},
   "outputs": [
    {
     "name": "stdout",
     "output_type": "stream",
     "text": [
      "List [1, 2, 3, 4] , id 139778677428864\n",
      "\f",
      "\n",
      "List [1, 2, 3, 4, 1] , id 139778677428864\n"
     ]
    }
   ],
   "source": [
    "x_list = [1,2,3,4]\n",
    "print('List {} , id {}'.format(x_list,id(x_list)))\n",
    "print('\\f')\n",
    "x_list.append(1)\n",
    "print('List {} , id {}'.format(x_list,id(x_list)))"
   ]
  },
  {
   "cell_type": "markdown",
   "metadata": {},
   "source": [
    "## 7 - Tuple\n",
    "---"
   ]
  },
  {
   "cell_type": "code",
   "execution_count": 86,
   "metadata": {},
   "outputs": [
    {
     "name": "stdout",
     "output_type": "stream",
     "text": [
      "Tuple (1, 2, 3, 4) , id 139778677417936\n",
      "\f",
      "\n",
      "Tuple (1, 2, 3, 4, 1) , id 139778679163888\n"
     ]
    }
   ],
   "source": [
    "x_tuple = (1,2,3,4)\n",
    "print('Tuple {} , id {}'.format(x_tuple,id(x_tuple)))\n",
    "print('\\f')\n",
    "x_tuple += 1,\n",
    "print('Tuple {} , id {}'.format(x_tuple,id(x_tuple)))\n"
   ]
  },
  {
   "cell_type": "markdown",
   "metadata": {},
   "source": [
    "## 8 - Dict"
   ]
  },
  {
   "cell_type": "code",
   "execution_count": 89,
   "metadata": {},
   "outputs": [
    {
     "name": "stdout",
     "output_type": "stream",
     "text": [
      "Dict {'key1': 'python', 'key2': 10, 'key3': [1, 2, 3, 4]} , id 139778677428128\n",
      "\f",
      "\n",
      "Dict {'key1': 'python', 'key2': 11, 'key3': [1, 2, 3, 4]} , id 139778677428128\n"
     ]
    }
   ],
   "source": [
    "x_dict = {'key1':'python','key2':10,'key3':[1,2,3,4]}\n",
    "print('Dict {} , id {}'.format(x_dict,id(x_dict)))\n",
    "print('\\f')\n",
    "x_dict['key2'] = x_dict['key2']+1\n",
    "print('Dict {} , id {}'.format(x_dict,id(x_dict)))"
   ]
  },
  {
   "cell_type": "markdown",
   "metadata": {},
   "source": [
    "## 9 - Bool"
   ]
  },
  {
   "cell_type": "code",
   "execution_count": 106,
   "metadata": {},
   "outputs": [
    {
     "name": "stdout",
     "output_type": "stream",
     "text": [
      "True\n",
      "True\n",
      "False\n",
      "False\n",
      "False\n"
     ]
    }
   ],
   "source": [
    "x1 = True\n",
    "y1 = x1 \n",
    "\n",
    "print(x1 == y1)\n",
    "print(x1 is y1)\n",
    "y1 =  not True \n",
    "print(y1)\n",
    "print(x1 is y1)\n",
    "print(x1 == y1)\n",
    "# x1 = y1\n",
    "# print(x1 is y1)\n",
    "# print(x1 == y1)"
   ]
  },
  {
   "cell_type": "markdown",
   "metadata": {},
   "source": [
    "## 10 - JSON"
   ]
  },
  {
   "cell_type": "code",
   "execution_count": null,
   "metadata": {},
   "outputs": [],
   "source": [
    "import pandas as pd\n",
    "import json\n",
    "\n",
    "data_offline_sales = []\n",
    "with open('offline_sales.json') as f:\n",
    "    for line in f:\n",
    "        data_offline_sales.append(json.loads(line))\n",
    "        \n",
    "df_offline_sales = pd.DataFrame(data_offline_sales)\n",
    "display(df_offline_sales.head(n=5))\n",
    "\n"
   ]
  },
  {
   "cell_type": "code",
   "execution_count": null,
   "metadata": {},
   "outputs": [],
   "source": []
  },
  {
   "cell_type": "markdown",
   "metadata": {},
   "source": [
    "## 11 - PANDAS\n"
   ]
  },
  {
   "cell_type": "code",
   "execution_count": null,
   "metadata": {},
   "outputs": [],
   "source": [
    "df = pd.read_clipboard()"
   ]
  },
  {
   "cell_type": "code",
   "execution_count": null,
   "metadata": {},
   "outputs": [],
   "source": []
  },
  {
   "cell_type": "markdown",
   "metadata": {},
   "source": [
    " "
   ]
  },
  {
   "cell_type": "markdown",
   "metadata": {},
   "source": [
    " "
   ]
  },
  {
   "cell_type": "markdown",
   "metadata": {},
   "source": [
    " "
   ]
  },
  {
   "cell_type": "markdown",
   "metadata": {},
   "source": [
    " "
   ]
  },
  {
   "cell_type": "markdown",
   "metadata": {},
   "source": [
    " "
   ]
  },
  {
   "cell_type": "markdown",
   "metadata": {},
   "source": [
    "## ESTRUTURA DE CONTROLE DE DADOS\n",
    "---"
   ]
  },
  {
   "cell_type": "markdown",
   "metadata": {},
   "source": [
    "## IF / THEN / ELSE\n",
    "\n",
    "    if case1:\n",
    "        perform action1\n",
    "    elif case2:\n",
    "        perform action2\n",
    "    else: \n",
    "        perform action3"
   ]
  },
  {
   "cell_type": "code",
   "execution_count": null,
   "metadata": {},
   "outputs": [],
   "source": []
  },
  {
   "cell_type": "markdown",
   "metadata": {},
   "source": [
    "---\n",
    "# FOR LOOP\n",
    "\n",
    "        for item in object:\n",
    "            statements to do stuff"
   ]
  },
  {
   "cell_type": "markdown",
   "metadata": {},
   "source": [
    "---\n",
    "## LISTS\n",
    "\n",
    "    for num in list1:\n",
    "        list_sum = list_sum + nu"
   ]
  },
  {
   "cell_type": "code",
   "execution_count": null,
   "metadata": {},
   "outputs": [],
   "source": []
  },
  {
   "cell_type": "markdown",
   "metadata": {},
   "source": [
    "---\n",
    "## TUPLES\n",
    "\n",
    "    Tuple unpacking\n",
    "    \n",
    "    >>> x = [(1,2), (3,4), (5,6)]\n",
    "    >>> for item in x:\n",
    "    ...     print \"A tuple\", item\n",
    "    A tuple (1, 2)\n",
    "    A tuple (3, 4)\n",
    "    A tuple (5, 6)\n",
    "    >>> for a, b in x:\n",
    "    ...     print \"First\", a, \"then\", b\n",
    "    First 1 then 2\n",
    "    First 3 then 4\n",
    "    First 5 then 6"
   ]
  },
  {
   "cell_type": "markdown",
   "metadata": {},
   "source": [
    "---\n",
    "## DICTIONARY\n",
    "\n",
    "    for k,v in d.items():\n",
    "        print(k)\n",
    "        print(v)"
   ]
  },
  {
   "cell_type": "code",
   "execution_count": null,
   "metadata": {},
   "outputs": [],
   "source": []
  },
  {
   "cell_type": "code",
   "execution_count": null,
   "metadata": {},
   "outputs": [],
   "source": []
  },
  {
   "cell_type": "markdown",
   "metadata": {},
   "source": [
    "---\n",
    "## PANDAS\n",
    "    \n",
    "    df = pd.DataFrame(data=[[1,2],[8,6],[1,2],[8,6]], columns = ['x','y'])\n",
    "    \n",
    "### DICA !!!!    \n",
    "    iloc numérico\n",
    "    loc numérico\n",
    "    misto loc"
   ]
  },
  {
   "cell_type": "code",
   "execution_count": 13,
   "metadata": {},
   "outputs": [],
   "source": [
    "df = pd.DataFrame(data=[[1,2],[8,6],[1,2],[8,6]], columns = ['x','y'])"
   ]
  },
  {
   "cell_type": "code",
   "execution_count": 14,
   "metadata": {},
   "outputs": [
    {
     "name": "stdout",
     "output_type": "stream",
     "text": [
      "1\n",
      "8\n",
      "1\n",
      "8\n"
     ]
    }
   ],
   "source": [
    "for idx in df.index:\n",
    "    print(df.loc[idx, 'x'])"
   ]
  },
  {
   "cell_type": "code",
   "execution_count": 15,
   "metadata": {},
   "outputs": [
    {
     "name": "stdout",
     "output_type": "stream",
     "text": [
      "0    1\n",
      "1    8\n",
      "2    1\n",
      "3    8\n",
      "Name: x, dtype: int64\n",
      "0    2\n",
      "1    6\n",
      "2    2\n",
      "3    6\n",
      "Name: y, dtype: int64\n"
     ]
    }
   ],
   "source": [
    "for col in df.columns:\n",
    "    print(df.loc[:, col])"
   ]
  },
  {
   "cell_type": "code",
   "execution_count": 17,
   "metadata": {},
   "outputs": [
    {
     "name": "stdout",
     "output_type": "stream",
     "text": [
      "1 2\n",
      "8 6\n",
      "1 2\n",
      "8 6\n"
     ]
    }
   ],
   "source": [
    "for i in range(len(df)) : \n",
    "  print(df.loc[i, 'x'], df.loc[i, 'y']) "
   ]
  },
  {
   "cell_type": "code",
   "execution_count": 19,
   "metadata": {},
   "outputs": [
    {
     "name": "stdout",
     "output_type": "stream",
     "text": [
      "1 2\n",
      "8 6\n",
      "1 2\n",
      "8 6\n"
     ]
    }
   ],
   "source": [
    "for i in range(len(df)) : \n",
    "  print(df.iloc[i,0], df.iloc[i,1]) "
   ]
  },
  {
   "cell_type": "code",
   "execution_count": 20,
   "metadata": {},
   "outputs": [
    {
     "name": "stdout",
     "output_type": "stream",
     "text": [
      "x    1\n",
      "y    2\n",
      "Name: 0, dtype: int64\n",
      "x    8\n",
      "y    6\n",
      "Name: 1, dtype: int64\n",
      "x    1\n",
      "y    2\n",
      "Name: 2, dtype: int64\n",
      "x    8\n",
      "y    6\n",
      "Name: 3, dtype: int64\n"
     ]
    }
   ],
   "source": [
    "for i in range(len(df)) : \n",
    "  print(df.iloc[i]) "
   ]
  },
  {
   "cell_type": "code",
   "execution_count": null,
   "metadata": {},
   "outputs": [],
   "source": []
  },
  {
   "cell_type": "markdown",
   "metadata": {},
   "source": [
    "--- \n",
    "## WHILE LOOPS\n",
    "\n",
    "        \n",
    "\n",
    "        x = 0\n",
    "\n",
    "        while x < 10:\n",
    "            print('x is currently: ',x)\n",
    "            print(' x is still less than 10, adding 1 to x')\n",
    "            x+=1\n",
    "            if x==3:\n",
    "                print('Breaking because x==3')\n",
    "                break\n",
    "            else:\n",
    "                print('continuing...')\n",
    "                continue\n",
    "\n"
   ]
  },
  {
   "cell_type": "code",
   "execution_count": null,
   "metadata": {},
   "outputs": [],
   "source": []
  },
  {
   "cell_type": "code",
   "execution_count": null,
   "metadata": {},
   "outputs": [],
   "source": []
  },
  {
   "cell_type": "markdown",
   "metadata": {},
   "source": [
    "## FUNÇÕES"
   ]
  },
  {
   "cell_type": "code",
   "execution_count": 21,
   "metadata": {},
   "outputs": [],
   "source": [
    "def name_of_function(arg1,arg2):\n",
    "    '''\n",
    "    This is where the function's Document String (docstring) goes\n",
    "    '''\n",
    "    # Do stuff here\n",
    "    # Return desired result"
   ]
  },
  {
   "cell_type": "code",
   "execution_count": null,
   "metadata": {},
   "outputs": [],
   "source": []
  },
  {
   "cell_type": "markdown",
   "metadata": {},
   "source": [
    "Criar:\n",
    "\n",
    "1) Uma função que cálcula o quadrado de um número\n",
    "\n",
    "2) Uma função que transforma números em palavras retornando uma frase:\n",
    "\n",
    "        entrada \n",
    "                \n",
    "                produto = sapato\n",
    "                preço = 12\n",
    "                quantidade = 10\n",
    "                \n",
    "        saida \n",
    "                \n",
    "                A loja possui 10 sapatos com o preço de 10"
   ]
  },
  {
   "cell_type": "markdown",
   "metadata": {},
   "source": [
    "# Desafios\n",
    "---"
   ]
  },
  {
   "cell_type": "markdown",
   "metadata": {},
   "source": [
    "## ESTRUTURA DE DADOS + CONTROLE + FUNÇÕES\n"
   ]
  },
  {
   "cell_type": "markdown",
   "metadata": {},
   "source": [
    "![alt text](https://upload.wikimedia.org/wikipedia/commons/thumb/b/b5/International_Morse_Code.svg/630px-International_Morse_Code.svg.png \"Python Bootcamp\")"
   ]
  },
  {
   "cell_type": "code",
   "execution_count": 62,
   "metadata": {
    "jupyter": {
     "source_hidden": true
    }
   },
   "outputs": [],
   "source": [
    "morse ={\n",
    "    \"\" : \"\",\n",
    "    \"A\" : \".-\",\n",
    "    \"B\" : \"-...\",\n",
    "    \"C\" : \"-.-.\",\n",
    "    \"D\" : \"-..\",\n",
    "    \"E\" : \".\",\n",
    "    \"F\" : \"..-.\",\n",
    "    \"G\" : \"--.\",\n",
    "    \"H\" : \"....\",\n",
    "    \"I\" : \"..\",\n",
    "    \"J\" : \".---\",\n",
    "    \"K\" : \"-.-\",\n",
    "    \"L\" : \".-..\",\n",
    "    \"M\" : \"--\",\n",
    "    \"N\" : \"-.\",\n",
    "    \"O\" : \"---\",\n",
    "    \"P\" : \".--.\",\n",
    "    \"Q\" : \"--.-\",\n",
    "    \"R\" : \".-.\",\n",
    "    \"S\" : \"...\",\n",
    "    \"T\" : \"-\",\n",
    "    \"U\" : \"..-\",\n",
    "    \"V\" : \"...-\",\n",
    "    \"W\" : \".--\",\n",
    "    \"X\" : \"-..-\",\n",
    "    \"Y\" : \"-.--\",\n",
    "    \"Z\" : \"--..\",\n",
    "    \"1\" : \".----\",\n",
    "    \"2\" : \"..---\",\n",
    "    \"3\" : \"...--\",\n",
    "    \"4\" : \"....-\",\n",
    "    \"5\" : \".....\",\n",
    "    \"6\" : \"-....\",\n",
    "    \"7\" : \"--...\",\n",
    "    \"8\" : \"---..\",\n",
    "    \"9\" : \"----.\",\n",
    "    \"0\" : \"-----\",\n",
    "    \".\\n\" : \".-.-.-\",\n",
    "    \",\" : \"--..--\",\n",
    "    \":\" : \"---...\",\n",
    "    \"?\" : \"..--..\",\n",
    "    \"'\" : \".----.\",\n",
    "    \"-\" : \"-....-\",\n",
    "    \"/\" : \"-..-.\",\n",
    "    \"@\" : \".--.-.\",\n",
    "    \"\\n<BT>\\n\" : \"-...-\",\n",
    "    \"<SN>\" : \"...-.\",\n",
    "    \"<KN>\" : \"-.--.\"\n",
    "}"
   ]
  },
  {
   "cell_type": "code",
   "execution_count": 63,
   "metadata": {
    "jupyter": {
     "source_hidden": true
    }
   },
   "outputs": [],
   "source": [
    "import pandas as pd\n",
    "\n",
    "df = pd.DataFrame.from_dict(morse, orient='index')\n",
    "df1 = df.iloc[:16][:].T\n",
    "df2 = df.iloc[16:32][:].T\n",
    "df3 = df.iloc[32:45][:].T"
   ]
  },
  {
   "cell_type": "code",
   "execution_count": 64,
   "metadata": {
    "jupyter": {
     "source_hidden": true
    }
   },
   "outputs": [
    {
     "data": {
      "text/html": [
       "<div>\n",
       "<style scoped>\n",
       "    .dataframe tbody tr th:only-of-type {\n",
       "        vertical-align: middle;\n",
       "    }\n",
       "\n",
       "    .dataframe tbody tr th {\n",
       "        vertical-align: top;\n",
       "    }\n",
       "\n",
       "    .dataframe thead th {\n",
       "        text-align: right;\n",
       "    }\n",
       "</style>\n",
       "<table border=\"1\" class=\"dataframe\">\n",
       "  <thead>\n",
       "    <tr style=\"text-align: right;\">\n",
       "      <th></th>\n",
       "      <th></th>\n",
       "      <th>A</th>\n",
       "      <th>B</th>\n",
       "      <th>C</th>\n",
       "      <th>D</th>\n",
       "      <th>E</th>\n",
       "      <th>F</th>\n",
       "      <th>G</th>\n",
       "      <th>H</th>\n",
       "      <th>I</th>\n",
       "      <th>J</th>\n",
       "      <th>K</th>\n",
       "      <th>L</th>\n",
       "      <th>M</th>\n",
       "      <th>N</th>\n",
       "      <th>O</th>\n",
       "    </tr>\n",
       "  </thead>\n",
       "  <tbody>\n",
       "    <tr>\n",
       "      <td>0</td>\n",
       "      <td></td>\n",
       "      <td>.-</td>\n",
       "      <td>-...</td>\n",
       "      <td>-.-.</td>\n",
       "      <td>-..</td>\n",
       "      <td>.</td>\n",
       "      <td>..-.</td>\n",
       "      <td>--.</td>\n",
       "      <td>....</td>\n",
       "      <td>..</td>\n",
       "      <td>.---</td>\n",
       "      <td>-.-</td>\n",
       "      <td>.-..</td>\n",
       "      <td>--</td>\n",
       "      <td>-.</td>\n",
       "      <td>---</td>\n",
       "    </tr>\n",
       "  </tbody>\n",
       "</table>\n",
       "</div>"
      ],
      "text/plain": [
       "      A     B     C    D  E     F    G     H   I     J    K     L   M   N    O\n",
       "0    .-  -...  -.-.  -..  .  ..-.  --.  ....  ..  .---  -.-  .-..  --  -.  ---"
      ]
     },
     "metadata": {},
     "output_type": "display_data"
    }
   ],
   "source": [
    "display(df1)"
   ]
  },
  {
   "cell_type": "code",
   "execution_count": 65,
   "metadata": {
    "jupyter": {
     "source_hidden": true
    }
   },
   "outputs": [
    {
     "data": {
      "text/html": [
       "<div>\n",
       "<style scoped>\n",
       "    .dataframe tbody tr th:only-of-type {\n",
       "        vertical-align: middle;\n",
       "    }\n",
       "\n",
       "    .dataframe tbody tr th {\n",
       "        vertical-align: top;\n",
       "    }\n",
       "\n",
       "    .dataframe thead th {\n",
       "        text-align: right;\n",
       "    }\n",
       "</style>\n",
       "<table border=\"1\" class=\"dataframe\">\n",
       "  <thead>\n",
       "    <tr style=\"text-align: right;\">\n",
       "      <th></th>\n",
       "      <th>P</th>\n",
       "      <th>Q</th>\n",
       "      <th>R</th>\n",
       "      <th>S</th>\n",
       "      <th>T</th>\n",
       "      <th>U</th>\n",
       "      <th>V</th>\n",
       "      <th>W</th>\n",
       "      <th>X</th>\n",
       "      <th>Y</th>\n",
       "      <th>Z</th>\n",
       "      <th>1</th>\n",
       "      <th>2</th>\n",
       "      <th>3</th>\n",
       "      <th>4</th>\n",
       "      <th>5</th>\n",
       "    </tr>\n",
       "  </thead>\n",
       "  <tbody>\n",
       "    <tr>\n",
       "      <td>0</td>\n",
       "      <td>.--.</td>\n",
       "      <td>--.-</td>\n",
       "      <td>.-.</td>\n",
       "      <td>...</td>\n",
       "      <td>-</td>\n",
       "      <td>..-</td>\n",
       "      <td>...-</td>\n",
       "      <td>.--</td>\n",
       "      <td>-..-</td>\n",
       "      <td>-.--</td>\n",
       "      <td>--..</td>\n",
       "      <td>.----</td>\n",
       "      <td>..---</td>\n",
       "      <td>...--</td>\n",
       "      <td>....-</td>\n",
       "      <td>.....</td>\n",
       "    </tr>\n",
       "  </tbody>\n",
       "</table>\n",
       "</div>"
      ],
      "text/plain": [
       "      P     Q    R    S  T    U     V    W     X     Y     Z      1      2  \\\n",
       "0  .--.  --.-  .-.  ...  -  ..-  ...-  .--  -..-  -.--  --..  .----  ..---   \n",
       "\n",
       "       3      4      5  \n",
       "0  ...--  ....-  .....  "
      ]
     },
     "metadata": {},
     "output_type": "display_data"
    }
   ],
   "source": [
    "display(df2)"
   ]
  },
  {
   "cell_type": "code",
   "execution_count": 66,
   "metadata": {
    "jupyter": {
     "source_hidden": true
    }
   },
   "outputs": [
    {
     "data": {
      "text/html": [
       "<div>\n",
       "<style scoped>\n",
       "    .dataframe tbody tr th:only-of-type {\n",
       "        vertical-align: middle;\n",
       "    }\n",
       "\n",
       "    .dataframe tbody tr th {\n",
       "        vertical-align: top;\n",
       "    }\n",
       "\n",
       "    .dataframe thead th {\n",
       "        text-align: right;\n",
       "    }\n",
       "</style>\n",
       "<table border=\"1\" class=\"dataframe\">\n",
       "  <thead>\n",
       "    <tr style=\"text-align: right;\">\n",
       "      <th></th>\n",
       "      <th>6</th>\n",
       "      <th>7</th>\n",
       "      <th>8</th>\n",
       "      <th>9</th>\n",
       "      <th>0</th>\n",
       "      <th>.\\n</th>\n",
       "      <th>,</th>\n",
       "      <th>:</th>\n",
       "      <th>?</th>\n",
       "      <th>'</th>\n",
       "      <th>-</th>\n",
       "      <th>/</th>\n",
       "      <th>@</th>\n",
       "    </tr>\n",
       "  </thead>\n",
       "  <tbody>\n",
       "    <tr>\n",
       "      <td>0</td>\n",
       "      <td>-....</td>\n",
       "      <td>--...</td>\n",
       "      <td>---..</td>\n",
       "      <td>----.</td>\n",
       "      <td>-----</td>\n",
       "      <td>.-.-.-</td>\n",
       "      <td>--..--</td>\n",
       "      <td>---...</td>\n",
       "      <td>..--..</td>\n",
       "      <td>.----.</td>\n",
       "      <td>-....-</td>\n",
       "      <td>-..-.</td>\n",
       "      <td>.--.-.</td>\n",
       "    </tr>\n",
       "  </tbody>\n",
       "</table>\n",
       "</div>"
      ],
      "text/plain": [
       "       6      7      8      9      0     .\\n       ,       :       ?       '  \\\n",
       "0  -....  --...  ---..  ----.  -----  .-.-.-  --..--  ---...  ..--..  .----.   \n",
       "\n",
       "        -      /       @  \n",
       "0  -....-  -..-.  .--.-.  "
      ]
     },
     "metadata": {},
     "output_type": "display_data"
    }
   ],
   "source": [
    "display(df3)"
   ]
  },
  {
   "cell_type": "code",
   "execution_count": 30,
   "metadata": {},
   "outputs": [
    {
     "data": {
      "text/html": [
       "<div>\n",
       "<style scoped>\n",
       "    .dataframe tbody tr th:only-of-type {\n",
       "        vertical-align: middle;\n",
       "    }\n",
       "\n",
       "    .dataframe tbody tr th {\n",
       "        vertical-align: top;\n",
       "    }\n",
       "\n",
       "    .dataframe thead th {\n",
       "        text-align: right;\n",
       "    }\n",
       "</style>\n",
       "<table border=\"1\" class=\"dataframe\">\n",
       "  <thead>\n",
       "    <tr style=\"text-align: right;\">\n",
       "      <th></th>\n",
       "      <th></th>\n",
       "      <th>A</th>\n",
       "      <th>B</th>\n",
       "      <th>C</th>\n",
       "      <th>D</th>\n",
       "      <th>E</th>\n",
       "      <th>F</th>\n",
       "      <th>G</th>\n",
       "      <th>H</th>\n",
       "      <th>I</th>\n",
       "      <th>...</th>\n",
       "      <th>,</th>\n",
       "      <th>:</th>\n",
       "      <th>?</th>\n",
       "      <th>'</th>\n",
       "      <th>-</th>\n",
       "      <th>/</th>\n",
       "      <th>@</th>\n",
       "      <th>\\n&lt;BT&gt;\\n</th>\n",
       "      <th>&lt;SN&gt;</th>\n",
       "      <th>&lt;KN&gt;</th>\n",
       "    </tr>\n",
       "  </thead>\n",
       "  <tbody>\n",
       "    <tr>\n",
       "      <td>morse_code</td>\n",
       "      <td></td>\n",
       "      <td>.-</td>\n",
       "      <td>-...</td>\n",
       "      <td>-.-.</td>\n",
       "      <td>-..</td>\n",
       "      <td>.</td>\n",
       "      <td>..-.</td>\n",
       "      <td>--.</td>\n",
       "      <td>....</td>\n",
       "      <td>..</td>\n",
       "      <td>...</td>\n",
       "      <td>--..--</td>\n",
       "      <td>---...</td>\n",
       "      <td>..--..</td>\n",
       "      <td>.----.</td>\n",
       "      <td>-....-</td>\n",
       "      <td>-..-.</td>\n",
       "      <td>.--.-.</td>\n",
       "      <td>-...-</td>\n",
       "      <td>...-.</td>\n",
       "      <td>-.--.</td>\n",
       "    </tr>\n",
       "  </tbody>\n",
       "</table>\n",
       "<p>1 rows × 48 columns</p>\n",
       "</div>"
      ],
      "text/plain": [
       "               A     B     C    D  E     F    G     H   I  ...       ,  \\\n",
       "morse_code    .-  -...  -.-.  -..  .  ..-.  --.  ....  ..  ...  --..--   \n",
       "\n",
       "                 :       ?       '       -      /       @ \\n<BT>\\n   <SN>  \\\n",
       "morse_code  ---...  ..--..  .----.  -....-  -..-.  .--.-.    -...-  ...-.   \n",
       "\n",
       "             <KN>  \n",
       "morse_code  -.--.  \n",
       "\n",
       "[1 rows x 48 columns]"
      ]
     },
     "execution_count": 30,
     "metadata": {},
     "output_type": "execute_result"
    }
   ],
   "source": [
    "df.rename(index={0: 'morse_code'})"
   ]
  },
  {
   "cell_type": "markdown",
   "metadata": {},
   "source": [
    "---\n",
    "Neste arquivo Jupyter você terá acesso ao dicionário *morse*, ele será utilizado para os exercícios sobre estrutura de dados:"
   ]
  },
  {
   "cell_type": "markdown",
   "metadata": {},
   "source": [
    "1 - Qual o código das letras -> a,b,e,t,y,@ ?\n",
    "\n",
    "2 - Quais os tipos destes caractéres?\n",
    "\n",
    "3 - Descodifique a lista: \n",
    "\n",
    "        palavra = [---,.-..,.-,None,.--.,-.--,-,---,-.,..,...,-,-,.-]\n",
    "        \n",
    "4 - Codifique a palavra:\n",
    "\n",
    "        palavra = 'Python'\n",
    "        \n",
    "5 - Crie uma função de codificação e descodificação Morse\n",
    "        \n",
    "\n"
   ]
  },
  {
   "cell_type": "code",
   "execution_count": null,
   "metadata": {},
   "outputs": [],
   "source": []
  }
 ],
 "metadata": {
  "kernelspec": {
   "display_name": "Python 3",
   "language": "python",
   "name": "python3"
  },
  "language_info": {
   "codemirror_mode": {
    "name": "ipython",
    "version": 3
   },
   "file_extension": ".py",
   "mimetype": "text/x-python",
   "name": "python",
   "nbconvert_exporter": "python",
   "pygments_lexer": "ipython3",
   "version": "3.7.4"
  }
 },
 "nbformat": 4,
 "nbformat_minor": 4
}
